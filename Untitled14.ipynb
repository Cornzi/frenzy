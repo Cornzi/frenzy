{
  "nbformat": 4,
  "nbformat_minor": 0,
  "metadata": {
    "colab": {
      "name": "Untitled14.ipynb",
      "provenance": [],
      "authorship_tag": "ABX9TyN6zDNI3ECRfLBFOMCwKiTA",
      "include_colab_link": true
    },
    "kernelspec": {
      "name": "python3",
      "display_name": "Python 3"
    },
    "language_info": {
      "name": "python"
    },
    "widgets": {
      "application/vnd.jupyter.widget-state+json": {
        "62077cea29fc4d3ab672caa50509dd68": {
          "model_module": "@jupyter-widgets/controls",
          "model_name": "HBoxModel",
          "state": {
            "_view_name": "HBoxView",
            "_dom_classes": [],
            "_model_name": "HBoxModel",
            "_view_module": "@jupyter-widgets/controls",
            "_model_module_version": "1.5.0",
            "_view_count": null,
            "_view_module_version": "1.5.0",
            "box_style": "",
            "layout": "IPY_MODEL_3a84b0feeebd4f1a98b266aabf041ad9",
            "_model_module": "@jupyter-widgets/controls",
            "children": [
              "IPY_MODEL_bf20371a737849fa81cdacbedeb34e84",
              "IPY_MODEL_ac51134ca58d4bc7ad7a1da6afce2057"
            ]
          }
        },
        "3a84b0feeebd4f1a98b266aabf041ad9": {
          "model_module": "@jupyter-widgets/base",
          "model_name": "LayoutModel",
          "state": {
            "_view_name": "LayoutView",
            "grid_template_rows": null,
            "right": null,
            "justify_content": null,
            "_view_module": "@jupyter-widgets/base",
            "overflow": null,
            "_model_module_version": "1.2.0",
            "_view_count": null,
            "flex_flow": null,
            "width": null,
            "min_width": null,
            "border": null,
            "align_items": null,
            "bottom": null,
            "_model_module": "@jupyter-widgets/base",
            "top": null,
            "grid_column": null,
            "overflow_y": null,
            "overflow_x": null,
            "grid_auto_flow": null,
            "grid_area": null,
            "grid_template_columns": null,
            "flex": null,
            "_model_name": "LayoutModel",
            "justify_items": null,
            "grid_row": null,
            "max_height": null,
            "align_content": null,
            "visibility": null,
            "align_self": null,
            "height": null,
            "min_height": null,
            "padding": null,
            "grid_auto_rows": null,
            "grid_gap": null,
            "max_width": null,
            "order": null,
            "_view_module_version": "1.2.0",
            "grid_template_areas": null,
            "object_position": null,
            "object_fit": null,
            "grid_auto_columns": null,
            "margin": null,
            "display": null,
            "left": null
          }
        },
        "bf20371a737849fa81cdacbedeb34e84": {
          "model_module": "@jupyter-widgets/controls",
          "model_name": "FloatProgressModel",
          "state": {
            "_view_name": "ProgressView",
            "style": "IPY_MODEL_ca91f6aecf5348108e86fa5aea679ae5",
            "_dom_classes": [],
            "description": "100%",
            "_model_name": "FloatProgressModel",
            "bar_style": "success",
            "max": 46827520,
            "_view_module": "@jupyter-widgets/controls",
            "_model_module_version": "1.5.0",
            "value": 46827520,
            "_view_count": null,
            "_view_module_version": "1.5.0",
            "orientation": "horizontal",
            "min": 0,
            "description_tooltip": null,
            "_model_module": "@jupyter-widgets/controls",
            "layout": "IPY_MODEL_3be8d3ef69964cd79f021da6a745b1f0"
          }
        },
        "ac51134ca58d4bc7ad7a1da6afce2057": {
          "model_module": "@jupyter-widgets/controls",
          "model_name": "HTMLModel",
          "state": {
            "_view_name": "HTMLView",
            "style": "IPY_MODEL_4b65f8d4fc434618a9dc84f5e819c0eb",
            "_dom_classes": [],
            "description": "",
            "_model_name": "HTMLModel",
            "placeholder": "​",
            "_view_module": "@jupyter-widgets/controls",
            "_model_module_version": "1.5.0",
            "value": " 44.7M/44.7M [00:00&lt;00:00, 69.2MB/s]",
            "_view_count": null,
            "_view_module_version": "1.5.0",
            "description_tooltip": null,
            "_model_module": "@jupyter-widgets/controls",
            "layout": "IPY_MODEL_7174685132294da181bcc2830becffac"
          }
        },
        "ca91f6aecf5348108e86fa5aea679ae5": {
          "model_module": "@jupyter-widgets/controls",
          "model_name": "ProgressStyleModel",
          "state": {
            "_view_name": "StyleView",
            "_model_name": "ProgressStyleModel",
            "description_width": "initial",
            "_view_module": "@jupyter-widgets/base",
            "_model_module_version": "1.5.0",
            "_view_count": null,
            "_view_module_version": "1.2.0",
            "bar_color": null,
            "_model_module": "@jupyter-widgets/controls"
          }
        },
        "3be8d3ef69964cd79f021da6a745b1f0": {
          "model_module": "@jupyter-widgets/base",
          "model_name": "LayoutModel",
          "state": {
            "_view_name": "LayoutView",
            "grid_template_rows": null,
            "right": null,
            "justify_content": null,
            "_view_module": "@jupyter-widgets/base",
            "overflow": null,
            "_model_module_version": "1.2.0",
            "_view_count": null,
            "flex_flow": null,
            "width": null,
            "min_width": null,
            "border": null,
            "align_items": null,
            "bottom": null,
            "_model_module": "@jupyter-widgets/base",
            "top": null,
            "grid_column": null,
            "overflow_y": null,
            "overflow_x": null,
            "grid_auto_flow": null,
            "grid_area": null,
            "grid_template_columns": null,
            "flex": null,
            "_model_name": "LayoutModel",
            "justify_items": null,
            "grid_row": null,
            "max_height": null,
            "align_content": null,
            "visibility": null,
            "align_self": null,
            "height": null,
            "min_height": null,
            "padding": null,
            "grid_auto_rows": null,
            "grid_gap": null,
            "max_width": null,
            "order": null,
            "_view_module_version": "1.2.0",
            "grid_template_areas": null,
            "object_position": null,
            "object_fit": null,
            "grid_auto_columns": null,
            "margin": null,
            "display": null,
            "left": null
          }
        },
        "4b65f8d4fc434618a9dc84f5e819c0eb": {
          "model_module": "@jupyter-widgets/controls",
          "model_name": "DescriptionStyleModel",
          "state": {
            "_view_name": "StyleView",
            "_model_name": "DescriptionStyleModel",
            "description_width": "",
            "_view_module": "@jupyter-widgets/base",
            "_model_module_version": "1.5.0",
            "_view_count": null,
            "_view_module_version": "1.2.0",
            "_model_module": "@jupyter-widgets/controls"
          }
        },
        "7174685132294da181bcc2830becffac": {
          "model_module": "@jupyter-widgets/base",
          "model_name": "LayoutModel",
          "state": {
            "_view_name": "LayoutView",
            "grid_template_rows": null,
            "right": null,
            "justify_content": null,
            "_view_module": "@jupyter-widgets/base",
            "overflow": null,
            "_model_module_version": "1.2.0",
            "_view_count": null,
            "flex_flow": null,
            "width": null,
            "min_width": null,
            "border": null,
            "align_items": null,
            "bottom": null,
            "_model_module": "@jupyter-widgets/base",
            "top": null,
            "grid_column": null,
            "overflow_y": null,
            "overflow_x": null,
            "grid_auto_flow": null,
            "grid_area": null,
            "grid_template_columns": null,
            "flex": null,
            "_model_name": "LayoutModel",
            "justify_items": null,
            "grid_row": null,
            "max_height": null,
            "align_content": null,
            "visibility": null,
            "align_self": null,
            "height": null,
            "min_height": null,
            "padding": null,
            "grid_auto_rows": null,
            "grid_gap": null,
            "max_width": null,
            "order": null,
            "_view_module_version": "1.2.0",
            "grid_template_areas": null,
            "object_position": null,
            "object_fit": null,
            "grid_auto_columns": null,
            "margin": null,
            "display": null,
            "left": null
          }
        },
        "7993c97869d2419fae4053a4a78c2da2": {
          "model_module": "@jupyter-widgets/controls",
          "model_name": "LabelModel",
          "state": {
            "_view_name": "LabelView",
            "style": "IPY_MODEL_1d8b52f2803e47fc94f98d818816a5b8",
            "_dom_classes": [],
            "description": "",
            "_model_name": "LabelModel",
            "placeholder": "​",
            "_view_module": "@jupyter-widgets/controls",
            "_model_module_version": "1.5.0",
            "value": "Prediction:virat Kholi,Prob:0.8680720925331116",
            "_view_count": null,
            "_view_module_version": "1.5.0",
            "description_tooltip": null,
            "_model_module": "@jupyter-widgets/controls",
            "layout": "IPY_MODEL_b9fd7dd991204e06b3c661f5db401fe0"
          }
        },
        "1d8b52f2803e47fc94f98d818816a5b8": {
          "model_module": "@jupyter-widgets/controls",
          "model_name": "DescriptionStyleModel",
          "state": {
            "_view_name": "StyleView",
            "_model_name": "DescriptionStyleModel",
            "description_width": "",
            "_view_module": "@jupyter-widgets/base",
            "_model_module_version": "1.5.0",
            "_view_count": null,
            "_view_module_version": "1.2.0",
            "_model_module": "@jupyter-widgets/controls"
          }
        },
        "b9fd7dd991204e06b3c661f5db401fe0": {
          "model_module": "@jupyter-widgets/base",
          "model_name": "LayoutModel",
          "state": {
            "_view_name": "LayoutView",
            "grid_template_rows": null,
            "right": null,
            "justify_content": null,
            "_view_module": "@jupyter-widgets/base",
            "overflow": null,
            "_model_module_version": "1.2.0",
            "_view_count": null,
            "flex_flow": null,
            "width": null,
            "min_width": null,
            "border": null,
            "align_items": null,
            "bottom": null,
            "_model_module": "@jupyter-widgets/base",
            "top": null,
            "grid_column": null,
            "overflow_y": null,
            "overflow_x": null,
            "grid_auto_flow": null,
            "grid_area": null,
            "grid_template_columns": null,
            "flex": null,
            "_model_name": "LayoutModel",
            "justify_items": null,
            "grid_row": null,
            "max_height": null,
            "align_content": null,
            "visibility": null,
            "align_self": null,
            "height": null,
            "min_height": null,
            "padding": null,
            "grid_auto_rows": null,
            "grid_gap": null,
            "max_width": null,
            "order": null,
            "_view_module_version": "1.2.0",
            "grid_template_areas": null,
            "object_position": null,
            "object_fit": null,
            "grid_auto_columns": null,
            "margin": null,
            "display": null,
            "left": null
          }
        },
        "32f03bf3c3eb4e7a92f44c4fcc2d4b92": {
          "model_module": "@jupyter-widgets/controls",
          "model_name": "FileUploadModel",
          "state": {
            "_view_name": "FileUploadView",
            "_counter": 4,
            "style": "IPY_MODEL_3cb9002f22c64ab68a8017cac9bf6d91",
            "_dom_classes": [],
            "description": "Upload(0)",
            "multiple": false,
            "_model_name": "FileUploadModel",
            "data": [],
            "button_style": "",
            "_view_module": "@jupyter-widgets/controls",
            "_model_module_version": "1.5.0",
            "accept": "",
            "_view_count": null,
            "disabled": false,
            "_view_module_version": "1.5.0",
            "error": "",
            "description_tooltip": null,
            "metadata": [
              {
                "name": "CAM_IMG_1494516633437.jpg",
                "type": "image/jpeg",
                "size": 132619,
                "lastModified": 1494516647000
              }
            ],
            "_model_module": "@jupyter-widgets/controls",
            "layout": "IPY_MODEL_7dae06764c68473795a4674ded09a5fb",
            "icon": "upload"
          }
        },
        "3cb9002f22c64ab68a8017cac9bf6d91": {
          "model_module": "@jupyter-widgets/controls",
          "model_name": "ButtonStyleModel",
          "state": {
            "_view_name": "StyleView",
            "_model_name": "ButtonStyleModel",
            "_view_module": "@jupyter-widgets/base",
            "_model_module_version": "1.5.0",
            "_view_count": null,
            "button_color": null,
            "font_weight": "",
            "_view_module_version": "1.2.0",
            "_model_module": "@jupyter-widgets/controls"
          }
        },
        "7dae06764c68473795a4674ded09a5fb": {
          "model_module": "@jupyter-widgets/base",
          "model_name": "LayoutModel",
          "state": {
            "_view_name": "LayoutView",
            "grid_template_rows": null,
            "right": null,
            "justify_content": null,
            "_view_module": "@jupyter-widgets/base",
            "overflow": null,
            "_model_module_version": "1.2.0",
            "_view_count": null,
            "flex_flow": null,
            "width": null,
            "min_width": null,
            "border": null,
            "align_items": null,
            "bottom": null,
            "_model_module": "@jupyter-widgets/base",
            "top": null,
            "grid_column": null,
            "overflow_y": null,
            "overflow_x": null,
            "grid_auto_flow": null,
            "grid_area": null,
            "grid_template_columns": null,
            "flex": null,
            "_model_name": "LayoutModel",
            "justify_items": null,
            "grid_row": null,
            "max_height": null,
            "align_content": null,
            "visibility": null,
            "align_self": null,
            "height": null,
            "min_height": null,
            "padding": null,
            "grid_auto_rows": null,
            "grid_gap": null,
            "max_width": null,
            "order": null,
            "_view_module_version": "1.2.0",
            "grid_template_areas": null,
            "object_position": null,
            "object_fit": null,
            "grid_auto_columns": null,
            "margin": null,
            "display": null,
            "left": null
          }
        },
        "025e1dd43b7e49f6b0b0c9a1ce3793b4": {
          "model_module": "@jupyter-widgets/controls",
          "model_name": "VBoxModel",
          "state": {
            "_view_name": "VBoxView",
            "_dom_classes": [],
            "_model_name": "VBoxModel",
            "_view_module": "@jupyter-widgets/controls",
            "_model_module_version": "1.5.0",
            "_view_count": null,
            "_view_module_version": "1.5.0",
            "box_style": "",
            "layout": "IPY_MODEL_72408d025cfa42568df068161d163d8d",
            "_model_module": "@jupyter-widgets/controls",
            "children": [
              "IPY_MODEL_6b2c5e6542d64ed1889f2c4d6066becb",
              "IPY_MODEL_e667bce930b74dd6b280df240a06c0d3",
              "IPY_MODEL_7ef2d2bb6ae040269081a194a154d7ef",
              "IPY_MODEL_a3fe934b1b18415cabbcd17181058f7f",
              "IPY_MODEL_d9cfedd07dca4f668e4c678e335edcbc",
              "IPY_MODEL_a28fd1f6b84046e3b047104cb1ef9069"
            ]
          }
        },
        "72408d025cfa42568df068161d163d8d": {
          "model_module": "@jupyter-widgets/base",
          "model_name": "LayoutModel",
          "state": {
            "_view_name": "LayoutView",
            "grid_template_rows": null,
            "right": null,
            "justify_content": null,
            "_view_module": "@jupyter-widgets/base",
            "overflow": null,
            "_model_module_version": "1.2.0",
            "_view_count": null,
            "flex_flow": null,
            "width": null,
            "min_width": null,
            "border": null,
            "align_items": null,
            "bottom": null,
            "_model_module": "@jupyter-widgets/base",
            "top": null,
            "grid_column": null,
            "overflow_y": null,
            "overflow_x": null,
            "grid_auto_flow": null,
            "grid_area": null,
            "grid_template_columns": null,
            "flex": null,
            "_model_name": "LayoutModel",
            "justify_items": null,
            "grid_row": null,
            "max_height": null,
            "align_content": null,
            "visibility": null,
            "align_self": null,
            "height": null,
            "min_height": null,
            "padding": null,
            "grid_auto_rows": null,
            "grid_gap": null,
            "max_width": null,
            "order": null,
            "_view_module_version": "1.2.0",
            "grid_template_areas": null,
            "object_position": null,
            "object_fit": null,
            "grid_auto_columns": null,
            "margin": null,
            "display": null,
            "left": null
          }
        },
        "6b2c5e6542d64ed1889f2c4d6066becb": {
          "model_module": "@jupyter-widgets/controls",
          "model_name": "LabelModel",
          "state": {
            "_view_name": "LabelView",
            "style": "IPY_MODEL_3b241b1a1d834c88a27372ff0dafc2df",
            "_dom_classes": [],
            "description": "",
            "_model_name": "LabelModel",
            "placeholder": "​",
            "_view_module": "@jupyter-widgets/controls",
            "_model_module_version": "1.5.0",
            "value": "select your image",
            "_view_count": null,
            "_view_module_version": "1.5.0",
            "description_tooltip": null,
            "_model_module": "@jupyter-widgets/controls",
            "layout": "IPY_MODEL_3cad8fffa22f40a08f5c2eec16dd312d"
          }
        },
        "e667bce930b74dd6b280df240a06c0d3": {
          "model_module": "@jupyter-widgets/output",
          "model_name": "OutputModel",
          "state": {
            "_view_name": "OutputView",
            "msg_id": "",
            "_dom_classes": [],
            "_model_name": "OutputModel",
            "outputs": [
              {
                "output_type": "display_data",
                "metadata": {
                  "tags": []
                },
                "image/png": "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\n",
                "text/plain": "<PIL.Image.Image image mode=RGB size=96x128 at 0x7F74D5588D90>"
              }
            ],
            "_view_module": "@jupyter-widgets/output",
            "_model_module_version": "1.0.0",
            "_view_count": null,
            "_view_module_version": "1.0.0",
            "layout": "IPY_MODEL_d66ae362bab94166a0cab0b3c6bcc267",
            "_model_module": "@jupyter-widgets/output"
          }
        },
        "7ef2d2bb6ae040269081a194a154d7ef": {
          "model_module": "@jupyter-widgets/controls",
          "model_name": "FileUploadModel",
          "state": {
            "_view_name": "FileUploadView",
            "_counter": 2,
            "style": "IPY_MODEL_dfdc6bf98c854fed8cbadd2e84ab05d8",
            "_dom_classes": [],
            "description": "Upload",
            "multiple": false,
            "_model_name": "FileUploadModel",
            "data": [
              null
            ],
            "button_style": "",
            "_view_module": "@jupyter-widgets/controls",
            "_model_module_version": "1.5.0",
            "accept": "",
            "_view_count": null,
            "disabled": false,
            "_view_module_version": "1.5.0",
            "error": "",
            "description_tooltip": null,
            "metadata": [
              {
                "name": "2017-09-17-18-31-13-661.jpg",
                "type": "image/jpeg",
                "size": 349843,
                "lastModified": 1505653626000
              }
            ],
            "_model_module": "@jupyter-widgets/controls",
            "layout": "IPY_MODEL_93088215c17c4b6b83c1943526baa3a3",
            "icon": "upload"
          }
        },
        "a3fe934b1b18415cabbcd17181058f7f": {
          "model_module": "@jupyter-widgets/controls",
          "model_name": "ButtonModel",
          "state": {
            "_view_name": "ButtonView",
            "style": "IPY_MODEL_08211b1a2b304e70944b30310593fee8",
            "_dom_classes": [],
            "description": "Remove",
            "_model_name": "ButtonModel",
            "button_style": "",
            "_view_module": "@jupyter-widgets/controls",
            "_model_module_version": "1.5.0",
            "tooltip": "",
            "_view_count": null,
            "disabled": false,
            "_view_module_version": "1.5.0",
            "layout": "IPY_MODEL_e7ccb5dd5fbe41d59a47ec850ffa05bf",
            "_model_module": "@jupyter-widgets/controls",
            "icon": ""
          }
        },
        "d9cfedd07dca4f668e4c678e335edcbc": {
          "model_module": "@jupyter-widgets/controls",
          "model_name": "ButtonModel",
          "state": {
            "_view_name": "ButtonView",
            "style": "IPY_MODEL_ad6231ad0c214827a39fa70e87bcda5f",
            "_dom_classes": [],
            "description": "Classify",
            "_model_name": "ButtonModel",
            "button_style": "",
            "_view_module": "@jupyter-widgets/controls",
            "_model_module_version": "1.5.0",
            "tooltip": "",
            "_view_count": null,
            "disabled": false,
            "_view_module_version": "1.5.0",
            "layout": "IPY_MODEL_7395667b7fa84b488d246652cd11df13",
            "_model_module": "@jupyter-widgets/controls",
            "icon": ""
          }
        },
        "a28fd1f6b84046e3b047104cb1ef9069": {
          "model_module": "@jupyter-widgets/controls",
          "model_name": "LabelModel",
          "state": {
            "_view_name": "LabelView",
            "style": "IPY_MODEL_3e078a6b568946798ec581a610e36379",
            "_dom_classes": [],
            "description": "",
            "_model_name": "LabelModel",
            "placeholder": "​",
            "_view_module": "@jupyter-widgets/controls",
            "_model_module_version": "1.5.0",
            "value": "Prediction:virat Kholi,Prob:0.9448875784873962",
            "_view_count": null,
            "_view_module_version": "1.5.0",
            "description_tooltip": null,
            "_model_module": "@jupyter-widgets/controls",
            "layout": "IPY_MODEL_de342ed00b9f4ad3a9d55ff61c66ba69"
          }
        },
        "3b241b1a1d834c88a27372ff0dafc2df": {
          "model_module": "@jupyter-widgets/controls",
          "model_name": "DescriptionStyleModel",
          "state": {
            "_view_name": "StyleView",
            "_model_name": "DescriptionStyleModel",
            "description_width": "",
            "_view_module": "@jupyter-widgets/base",
            "_model_module_version": "1.5.0",
            "_view_count": null,
            "_view_module_version": "1.2.0",
            "_model_module": "@jupyter-widgets/controls"
          }
        },
        "3cad8fffa22f40a08f5c2eec16dd312d": {
          "model_module": "@jupyter-widgets/base",
          "model_name": "LayoutModel",
          "state": {
            "_view_name": "LayoutView",
            "grid_template_rows": null,
            "right": null,
            "justify_content": null,
            "_view_module": "@jupyter-widgets/base",
            "overflow": null,
            "_model_module_version": "1.2.0",
            "_view_count": null,
            "flex_flow": null,
            "width": null,
            "min_width": null,
            "border": null,
            "align_items": null,
            "bottom": null,
            "_model_module": "@jupyter-widgets/base",
            "top": null,
            "grid_column": null,
            "overflow_y": null,
            "overflow_x": null,
            "grid_auto_flow": null,
            "grid_area": null,
            "grid_template_columns": null,
            "flex": null,
            "_model_name": "LayoutModel",
            "justify_items": null,
            "grid_row": null,
            "max_height": null,
            "align_content": null,
            "visibility": null,
            "align_self": null,
            "height": null,
            "min_height": null,
            "padding": null,
            "grid_auto_rows": null,
            "grid_gap": null,
            "max_width": null,
            "order": null,
            "_view_module_version": "1.2.0",
            "grid_template_areas": null,
            "object_position": null,
            "object_fit": null,
            "grid_auto_columns": null,
            "margin": null,
            "display": null,
            "left": null
          }
        },
        "dfdc6bf98c854fed8cbadd2e84ab05d8": {
          "model_module": "@jupyter-widgets/controls",
          "model_name": "ButtonStyleModel",
          "state": {
            "_view_name": "StyleView",
            "_model_name": "ButtonStyleModel",
            "_view_module": "@jupyter-widgets/base",
            "_model_module_version": "1.5.0",
            "_view_count": null,
            "button_color": null,
            "font_weight": "",
            "_view_module_version": "1.2.0",
            "_model_module": "@jupyter-widgets/controls"
          }
        },
        "93088215c17c4b6b83c1943526baa3a3": {
          "model_module": "@jupyter-widgets/base",
          "model_name": "LayoutModel",
          "state": {
            "_view_name": "LayoutView",
            "grid_template_rows": null,
            "right": null,
            "justify_content": null,
            "_view_module": "@jupyter-widgets/base",
            "overflow": null,
            "_model_module_version": "1.2.0",
            "_view_count": null,
            "flex_flow": null,
            "width": null,
            "min_width": null,
            "border": null,
            "align_items": null,
            "bottom": null,
            "_model_module": "@jupyter-widgets/base",
            "top": null,
            "grid_column": null,
            "overflow_y": null,
            "overflow_x": null,
            "grid_auto_flow": null,
            "grid_area": null,
            "grid_template_columns": null,
            "flex": null,
            "_model_name": "LayoutModel",
            "justify_items": null,
            "grid_row": null,
            "max_height": null,
            "align_content": null,
            "visibility": null,
            "align_self": null,
            "height": null,
            "min_height": null,
            "padding": null,
            "grid_auto_rows": null,
            "grid_gap": null,
            "max_width": null,
            "order": null,
            "_view_module_version": "1.2.0",
            "grid_template_areas": null,
            "object_position": null,
            "object_fit": null,
            "grid_auto_columns": null,
            "margin": null,
            "display": null,
            "left": null
          }
        },
        "08211b1a2b304e70944b30310593fee8": {
          "model_module": "@jupyter-widgets/controls",
          "model_name": "ButtonStyleModel",
          "state": {
            "_view_name": "StyleView",
            "_model_name": "ButtonStyleModel",
            "_view_module": "@jupyter-widgets/base",
            "_model_module_version": "1.5.0",
            "_view_count": null,
            "button_color": null,
            "font_weight": "",
            "_view_module_version": "1.2.0",
            "_model_module": "@jupyter-widgets/controls"
          }
        },
        "e7ccb5dd5fbe41d59a47ec850ffa05bf": {
          "model_module": "@jupyter-widgets/base",
          "model_name": "LayoutModel",
          "state": {
            "_view_name": "LayoutView",
            "grid_template_rows": null,
            "right": null,
            "justify_content": null,
            "_view_module": "@jupyter-widgets/base",
            "overflow": null,
            "_model_module_version": "1.2.0",
            "_view_count": null,
            "flex_flow": null,
            "width": null,
            "min_width": null,
            "border": null,
            "align_items": null,
            "bottom": null,
            "_model_module": "@jupyter-widgets/base",
            "top": null,
            "grid_column": null,
            "overflow_y": null,
            "overflow_x": null,
            "grid_auto_flow": null,
            "grid_area": null,
            "grid_template_columns": null,
            "flex": null,
            "_model_name": "LayoutModel",
            "justify_items": null,
            "grid_row": null,
            "max_height": null,
            "align_content": null,
            "visibility": null,
            "align_self": null,
            "height": null,
            "min_height": null,
            "padding": null,
            "grid_auto_rows": null,
            "grid_gap": null,
            "max_width": null,
            "order": null,
            "_view_module_version": "1.2.0",
            "grid_template_areas": null,
            "object_position": null,
            "object_fit": null,
            "grid_auto_columns": null,
            "margin": null,
            "display": null,
            "left": null
          }
        },
        "ad6231ad0c214827a39fa70e87bcda5f": {
          "model_module": "@jupyter-widgets/controls",
          "model_name": "ButtonStyleModel",
          "state": {
            "_view_name": "StyleView",
            "_model_name": "ButtonStyleModel",
            "_view_module": "@jupyter-widgets/base",
            "_model_module_version": "1.5.0",
            "_view_count": null,
            "button_color": null,
            "font_weight": "",
            "_view_module_version": "1.2.0",
            "_model_module": "@jupyter-widgets/controls"
          }
        },
        "7395667b7fa84b488d246652cd11df13": {
          "model_module": "@jupyter-widgets/base",
          "model_name": "LayoutModel",
          "state": {
            "_view_name": "LayoutView",
            "grid_template_rows": null,
            "right": null,
            "justify_content": null,
            "_view_module": "@jupyter-widgets/base",
            "overflow": null,
            "_model_module_version": "1.2.0",
            "_view_count": null,
            "flex_flow": null,
            "width": null,
            "min_width": null,
            "border": null,
            "align_items": null,
            "bottom": null,
            "_model_module": "@jupyter-widgets/base",
            "top": null,
            "grid_column": null,
            "overflow_y": null,
            "overflow_x": null,
            "grid_auto_flow": null,
            "grid_area": null,
            "grid_template_columns": null,
            "flex": null,
            "_model_name": "LayoutModel",
            "justify_items": null,
            "grid_row": null,
            "max_height": null,
            "align_content": null,
            "visibility": null,
            "align_self": null,
            "height": null,
            "min_height": null,
            "padding": null,
            "grid_auto_rows": null,
            "grid_gap": null,
            "max_width": null,
            "order": null,
            "_view_module_version": "1.2.0",
            "grid_template_areas": null,
            "object_position": null,
            "object_fit": null,
            "grid_auto_columns": null,
            "margin": null,
            "display": null,
            "left": null
          }
        },
        "3e078a6b568946798ec581a610e36379": {
          "model_module": "@jupyter-widgets/controls",
          "model_name": "DescriptionStyleModel",
          "state": {
            "_view_name": "StyleView",
            "_model_name": "DescriptionStyleModel",
            "description_width": "",
            "_view_module": "@jupyter-widgets/base",
            "_model_module_version": "1.5.0",
            "_view_count": null,
            "_view_module_version": "1.2.0",
            "_model_module": "@jupyter-widgets/controls"
          }
        },
        "de342ed00b9f4ad3a9d55ff61c66ba69": {
          "model_module": "@jupyter-widgets/base",
          "model_name": "LayoutModel",
          "state": {
            "_view_name": "LayoutView",
            "grid_template_rows": null,
            "right": null,
            "justify_content": null,
            "_view_module": "@jupyter-widgets/base",
            "overflow": null,
            "_model_module_version": "1.2.0",
            "_view_count": null,
            "flex_flow": null,
            "width": null,
            "min_width": null,
            "border": null,
            "align_items": null,
            "bottom": null,
            "_model_module": "@jupyter-widgets/base",
            "top": null,
            "grid_column": null,
            "overflow_y": null,
            "overflow_x": null,
            "grid_auto_flow": null,
            "grid_area": null,
            "grid_template_columns": null,
            "flex": null,
            "_model_name": "LayoutModel",
            "justify_items": null,
            "grid_row": null,
            "max_height": null,
            "align_content": null,
            "visibility": null,
            "align_self": null,
            "height": null,
            "min_height": null,
            "padding": null,
            "grid_auto_rows": null,
            "grid_gap": null,
            "max_width": null,
            "order": null,
            "_view_module_version": "1.2.0",
            "grid_template_areas": null,
            "object_position": null,
            "object_fit": null,
            "grid_auto_columns": null,
            "margin": null,
            "display": null,
            "left": null
          }
        },
        "d66ae362bab94166a0cab0b3c6bcc267": {
          "model_module": "@jupyter-widgets/base",
          "model_name": "LayoutModel",
          "state": {
            "_view_name": "LayoutView",
            "grid_template_rows": null,
            "right": null,
            "justify_content": null,
            "_view_module": "@jupyter-widgets/base",
            "overflow": null,
            "_model_module_version": "1.2.0",
            "_view_count": null,
            "flex_flow": null,
            "width": null,
            "min_width": null,
            "border": null,
            "align_items": null,
            "bottom": null,
            "_model_module": "@jupyter-widgets/base",
            "top": null,
            "grid_column": null,
            "overflow_y": null,
            "overflow_x": null,
            "grid_auto_flow": null,
            "grid_area": null,
            "grid_template_columns": null,
            "flex": null,
            "_model_name": "LayoutModel",
            "justify_items": null,
            "grid_row": null,
            "max_height": null,
            "align_content": null,
            "visibility": null,
            "align_self": null,
            "height": null,
            "min_height": null,
            "padding": null,
            "grid_auto_rows": null,
            "grid_gap": null,
            "max_width": null,
            "order": null,
            "_view_module_version": "1.2.0",
            "grid_template_areas": null,
            "object_position": null,
            "object_fit": null,
            "grid_auto_columns": null,
            "margin": null,
            "display": null,
            "left": null
          }
        }
      }
    }
  },
  "cells": [
    {
      "cell_type": "markdown",
      "metadata": {
        "id": "view-in-github",
        "colab_type": "text"
      },
      "source": [
        "<a href=\"https://colab.research.google.com/github/Cornzi/frenzy/blob/main/Untitled14.ipynb\" target=\"_parent\"><img src=\"https://colab.research.google.com/assets/colab-badge.svg\" alt=\"Open In Colab\"/></a>"
      ]
    },
    {
      "cell_type": "code",
      "metadata": {
        "colab": {
          "base_uri": "https://localhost:8080/"
        },
        "id": "Jtb4K8ok4h5f",
        "outputId": "9a3ea54e-fa9f-428a-9443-5a8e9d1f0cd3"
      },
      "source": [
        "!pip install -Uqq fastbook"
      ],
      "execution_count": null,
      "outputs": [
        {
          "output_type": "stream",
          "text": [
            "\u001b[K     |████████████████████████████████| 727kB 5.5MB/s \n",
            "\u001b[K     |████████████████████████████████| 51kB 4.4MB/s \n",
            "\u001b[K     |████████████████████████████████| 1.2MB 9.2MB/s \n",
            "\u001b[K     |████████████████████████████████| 194kB 12.6MB/s \n",
            "\u001b[K     |████████████████████████████████| 51kB 4.4MB/s \n",
            "\u001b[K     |████████████████████████████████| 61kB 5.4MB/s \n",
            "\u001b[K     |████████████████████████████████| 12.8MB 223kB/s \n",
            "\u001b[K     |████████████████████████████████| 776.8MB 22kB/s \n",
            "\u001b[31mERROR: torchtext 0.9.0 has requirement torch==1.8.0, but you'll have torch 1.7.1 which is incompatible.\u001b[0m\n"
          ],
          "name": "stdout"
        }
      ]
    },
    {
      "cell_type": "code",
      "metadata": {
        "colab": {
          "base_uri": "https://localhost:8080/"
        },
        "id": "5_fUDHye6E2W",
        "outputId": "586e3aa2-b55c-4900-b085-152f47d2c039"
      },
      "source": [
        "import fastbook\n",
        "fastbook.setup_book()\n",
        "from fastai.vision.widgets import *"
      ],
      "execution_count": 2,
      "outputs": [
        {
          "output_type": "stream",
          "text": [
            "Go to this URL in a browser: https://accounts.google.com/o/oauth2/auth?client_id=947318989803-6bn6qk8qdgf4n4g3pfee6491hc0brc4i.apps.googleusercontent.com&redirect_uri=urn%3aietf%3awg%3aoauth%3a2.0%3aoob&scope=email%20https%3a%2f%2fwww.googleapis.com%2fauth%2fdocs.test%20https%3a%2f%2fwww.googleapis.com%2fauth%2fdrive%20https%3a%2f%2fwww.googleapis.com%2fauth%2fdrive.photos.readonly%20https%3a%2f%2fwww.googleapis.com%2fauth%2fpeopleapi.readonly%20https%3a%2f%2fwww.googleapis.com%2fauth%2fdrive.activity.readonly%20https%3a%2f%2fwww.googleapis.com%2fauth%2fexperimentsandconfigs%20https%3a%2f%2fwww.googleapis.com%2fauth%2fphotos.native&response_type=code\n",
            "\n",
            "Enter your authorization code:\n",
            "4/1AY0e-g7402LdAhHPTbUXmIsmiS4iPXwJ5x1NQQRpGagKnpoba2Q2w0j4Tn4\n",
            "Mounted at /content/gdrive\n"
          ],
          "name": "stdout"
        }
      ]
    },
    {
      "cell_type": "code",
      "metadata": {
        "id": "GTwTCD6x6P6n"
      },
      "source": [
        "from fastbook import *\n",
        "from fastai.vision.all import *\n",
        "key=\"81551da9516747d79840c932aafde189\"\n",
        "players=\"virat Kholi\",\"Rohit Sharma\",\"Ms Dhoni\";\n",
        "path=Path(\"player\")\n",
        "if not path.exists():\n",
        "    path.mkdir()\n",
        "    for o in players:\n",
        "        dest = (path/o)\n",
        "        dest.mkdir(exist_ok=True)\n",
        "        results = search_images_bing(key, f'{o}')\n",
        "        download_images(dest, urls=results.attrgot('contentUrl'))"
      ],
      "execution_count": 3,
      "outputs": []
    },
    {
      "cell_type": "code",
      "metadata": {
        "colab": {
          "base_uri": "https://localhost:8080/",
          "height": 317,
          "referenced_widgets": [
            "62077cea29fc4d3ab672caa50509dd68",
            "3a84b0feeebd4f1a98b266aabf041ad9",
            "bf20371a737849fa81cdacbedeb34e84",
            "ac51134ca58d4bc7ad7a1da6afce2057",
            "ca91f6aecf5348108e86fa5aea679ae5",
            "3be8d3ef69964cd79f021da6a745b1f0",
            "4b65f8d4fc434618a9dc84f5e819c0eb",
            "7174685132294da181bcc2830becffac"
          ]
        },
        "id": "NHoZl7HGGN3M",
        "outputId": "c54c9722-f5c0-4dd2-b3ab-67aa34f8abc7"
      },
      "source": [
        "data=DataBlock(blocks=(ImageBlock,CategoryBlock),item_tfms=Resize(128),get_items=get_image_files\n",
        "               ,get_y=parent_label)\n",
        "dls=data.dataloaders(path)\n",
        "learn=cnn_learner(dls,resnet18,metrics=error_rate)\n",
        "learn.fine_tune(4)\n",
        "fns=get_image_files(path)\n",
        "failed=verify_images(fns)\n"
      ],
      "execution_count": 10,
      "outputs": [
        {
          "output_type": "stream",
          "text": [
            "Downloading: \"https://download.pytorch.org/models/resnet18-5c106cde.pth\" to /root/.cache/torch/hub/checkpoints/resnet18-5c106cde.pth\n"
          ],
          "name": "stderr"
        },
        {
          "output_type": "display_data",
          "data": {
            "application/vnd.jupyter.widget-view+json": {
              "model_id": "62077cea29fc4d3ab672caa50509dd68",
              "version_minor": 0,
              "version_major": 2
            },
            "text/plain": [
              "HBox(children=(FloatProgress(value=0.0, max=46827520.0), HTML(value='')))"
            ]
          },
          "metadata": {
            "tags": []
          }
        },
        {
          "output_type": "stream",
          "text": [
            "\n"
          ],
          "name": "stdout"
        },
        {
          "output_type": "display_data",
          "data": {
            "text/html": [
              "<table border=\"1\" class=\"dataframe\">\n",
              "  <thead>\n",
              "    <tr style=\"text-align: left;\">\n",
              "      <th>epoch</th>\n",
              "      <th>train_loss</th>\n",
              "      <th>valid_loss</th>\n",
              "      <th>error_rate</th>\n",
              "      <th>time</th>\n",
              "    </tr>\n",
              "  </thead>\n",
              "  <tbody>\n",
              "    <tr>\n",
              "      <td>0</td>\n",
              "      <td>1.731884</td>\n",
              "      <td>1.914162</td>\n",
              "      <td>0.607595</td>\n",
              "      <td>00:35</td>\n",
              "    </tr>\n",
              "  </tbody>\n",
              "</table>"
            ],
            "text/plain": [
              "<IPython.core.display.HTML object>"
            ]
          },
          "metadata": {
            "tags": []
          }
        },
        {
          "output_type": "display_data",
          "data": {
            "text/html": [
              "<table border=\"1\" class=\"dataframe\">\n",
              "  <thead>\n",
              "    <tr style=\"text-align: left;\">\n",
              "      <th>epoch</th>\n",
              "      <th>train_loss</th>\n",
              "      <th>valid_loss</th>\n",
              "      <th>error_rate</th>\n",
              "      <th>time</th>\n",
              "    </tr>\n",
              "  </thead>\n",
              "  <tbody>\n",
              "    <tr>\n",
              "      <td>0</td>\n",
              "      <td>1.368796</td>\n",
              "      <td>1.285076</td>\n",
              "      <td>0.569620</td>\n",
              "      <td>00:44</td>\n",
              "    </tr>\n",
              "    <tr>\n",
              "      <td>1</td>\n",
              "      <td>1.122189</td>\n",
              "      <td>1.294253</td>\n",
              "      <td>0.531646</td>\n",
              "      <td>00:43</td>\n",
              "    </tr>\n",
              "    <tr>\n",
              "      <td>2</td>\n",
              "      <td>0.911502</td>\n",
              "      <td>1.378232</td>\n",
              "      <td>0.594937</td>\n",
              "      <td>00:44</td>\n",
              "    </tr>\n",
              "    <tr>\n",
              "      <td>3</td>\n",
              "      <td>0.742004</td>\n",
              "      <td>1.471306</td>\n",
              "      <td>0.607595</td>\n",
              "      <td>00:44</td>\n",
              "    </tr>\n",
              "  </tbody>\n",
              "</table>"
            ],
            "text/plain": [
              "<IPython.core.display.HTML object>"
            ]
          },
          "metadata": {
            "tags": []
          }
        }
      ]
    },
    {
      "cell_type": "code",
      "metadata": {
        "colab": {
          "base_uri": "https://localhost:8080/",
          "height": 35
        },
        "id": "1ORoTh14KS_b",
        "outputId": "9a156187-9753-4b27-caab-25096bb17883"
      },
      "source": [
        "failed.map(Path.unlink)\n",
        "#interp=ClassificationInterpretation.from_learner(learn)\n",
        "#interp.plot_confusion_matrix()\n",
        "print(learn.predict('player/Rohit Sharma/00000001.jpg'))\n",
        "p=Path()\n",
        "learn.export()"
      ],
      "execution_count": 13,
      "outputs": [
        {
          "output_type": "display_data",
          "data": {
            "text/html": [
              ""
            ],
            "text/plain": [
              "<IPython.core.display.HTML object>"
            ]
          },
          "metadata": {
            "tags": []
          }
        },
        {
          "output_type": "stream",
          "text": [
            "('virat Kholi', tensor(2), tensor([0.0088, 0.2222, 0.7690]))\n"
          ],
          "name": "stdout"
        }
      ]
    },
    {
      "cell_type": "code",
      "metadata": {
        "id": "mabyGRwpRKrk"
      },
      "source": [
        "cleaner=ImageClassifierCleaner(learn)\n",
        "cleaner"
      ],
      "execution_count": null,
      "outputs": []
    },
    {
      "cell_type": "code",
      "metadata": {
        "colab": {
          "base_uri": "https://localhost:8080/"
        },
        "id": "izOPcGdMRpE8",
        "outputId": "e0258f5e-0a0f-49fb-cdc0-d4023739349e"
      },
      "source": [
        "learn.export()\n",
        "p=Path('.')\n",
        "p.ls(file_exts='.pkl')\n",
        "#learn.predict('player/Ms Dhoni/00000003.jpg')"
      ],
      "execution_count": 15,
      "outputs": [
        {
          "output_type": "execute_result",
          "data": {
            "text/plain": [
              "(#1) [Path('export.pkl')]"
            ]
          },
          "metadata": {
            "tags": []
          },
          "execution_count": 15
        }
      ]
    },
    {
      "cell_type": "code",
      "metadata": {
        "id": "N-BE6mTashFu"
      },
      "source": [
        "img=Image.open('player/Ms Dhoni/00000003.jpg')\n",
        "out=widgets.Output()\n",
        "with out:\n",
        "  img.to_thumb(128)\n",
        "out.clear_output()"
      ],
      "execution_count": 16,
      "outputs": []
    },
    {
      "cell_type": "code",
      "metadata": {
        "id": "2JcDF-gVuQKJ",
        "outputId": "d052063e-4bc5-4176-8022-0df886bb116b",
        "colab": {
          "base_uri": "https://localhost:8080/",
          "height": 17
        }
      },
      "source": [
        "pred,pred1,prob=load_learner(\"export.pkl\").predict('player/Ms Dhoni/00000003.jpg')"
      ],
      "execution_count": 17,
      "outputs": [
        {
          "output_type": "display_data",
          "data": {
            "text/html": [
              ""
            ],
            "text/plain": [
              "<IPython.core.display.HTML object>"
            ]
          },
          "metadata": {
            "tags": []
          }
        }
      ]
    },
    {
      "cell_type": "code",
      "metadata": {
        "id": "_lghYw03uoTv",
        "outputId": "4239d968-540b-4586-a819-d52dbe255ad7",
        "colab": {
          "base_uri": "https://localhost:8080/",
          "height": 48,
          "referenced_widgets": [
            "7993c97869d2419fae4053a4a78c2da2",
            "1d8b52f2803e47fc94f98d818816a5b8",
            "b9fd7dd991204e06b3c661f5db401fe0"
          ]
        }
      },
      "source": [
        "ibl_pred=widgets.Label()\n",
        "ibl_pred.value=f'Prediction:{pred}, probability:{prob.max().item()}'\n",
        "ibl_pred"
      ],
      "execution_count": 18,
      "outputs": [
        {
          "output_type": "display_data",
          "data": {
            "application/vnd.jupyter.widget-view+json": {
              "model_id": "7993c97869d2419fae4053a4a78c2da2",
              "version_minor": 0,
              "version_major": 2
            },
            "text/plain": [
              "Label(value='Prediction:virat Kholi, probability:0.8422491550445557')"
            ]
          },
          "metadata": {
            "tags": []
          }
        }
      ]
    },
    {
      "cell_type": "code",
      "metadata": {
        "id": "IzIMKWOS0drt",
        "outputId": "6be88934-13bf-4038-e672-0fa74eb2cf7d",
        "colab": {
          "base_uri": "https://localhost:8080/",
          "height": 49,
          "referenced_widgets": [
            "32f03bf3c3eb4e7a92f44c4fcc2d4b92",
            "3cb9002f22c64ab68a8017cac9bf6d91",
            "7dae06764c68473795a4674ded09a5fb"
          ]
        }
      },
      "source": [
        "btn_run=widgets.Button(description=\"Classify\")\n",
        "btn_run\n",
        "btn_upload=widgets.FileUpload()\n",
        "btn_upload"
      ],
      "execution_count": 26,
      "outputs": [
        {
          "output_type": "display_data",
          "data": {
            "application/vnd.jupyter.widget-view+json": {
              "model_id": "32f03bf3c3eb4e7a92f44c4fcc2d4b92",
              "version_minor": 0,
              "version_major": 2
            },
            "text/plain": [
              "FileUpload(value={}, description='Upload')"
            ]
          },
          "metadata": {
            "tags": []
          }
        }
      ]
    },
    {
      "cell_type": "code",
      "metadata": {
        "id": "UviI61bG00AW"
      },
      "source": [
        "from fastai.vision.widgets import *\n",
        "from fastai.vision.all import *\n",
        "out=widgets.Output()\n",
        "model=load_learner(p/\"export.pkl\")\n",
        "btn_run=widgets.Button(description=\"Classify\")\n",
        "btn_run\n",
        "def classify(change):\n",
        "  try:\n",
        "    img=PILImage.create(btn_upload.data[0])\n",
        "  except:\n",
        "    ibl_pred.value=\"OOPS! Failed to indentify image! Please upload another!\"\n",
        "    time.sleep(3)\n",
        "    ibl_pred.value=\"Prediction will appear here\"\n",
        "    return\n",
        "  with out:\n",
        "    display(img.to_thumb(128))\n",
        "  pred,te,prob=model.predict(img)\n",
        "  ibl_pred.value=f'Prediction:{pred},Prob:{prob.max().item()}'\n",
        "btn_run.on_click(classify)\n",
        "ibl_pred=widgets.Label()\n",
        "btn_upload=widgets.FileUpload()\n",
        "def remove(change):\n",
        "  btn_upload.data=[]\n",
        "  out.clear_output()  \n",
        "btn_rem=widgets.Button(description=\"Remove\")\n",
        "btn_rem.on_click(remove)"
      ],
      "execution_count": 102,
      "outputs": []
    },
    {
      "cell_type": "code",
      "metadata": {
        "id": "7-sENo595PSr",
        "outputId": "9196c0fb-f5f0-4a74-ae0d-d207669b3bcd",
        "colab": {
          "base_uri": "https://localhost:8080/",
          "height": 305,
          "referenced_widgets": [
            "025e1dd43b7e49f6b0b0c9a1ce3793b4",
            "72408d025cfa42568df068161d163d8d",
            "6b2c5e6542d64ed1889f2c4d6066becb",
            "e667bce930b74dd6b280df240a06c0d3",
            "7ef2d2bb6ae040269081a194a154d7ef",
            "a3fe934b1b18415cabbcd17181058f7f",
            "d9cfedd07dca4f668e4c678e335edcbc",
            "a28fd1f6b84046e3b047104cb1ef9069",
            "3b241b1a1d834c88a27372ff0dafc2df",
            "3cad8fffa22f40a08f5c2eec16dd312d",
            "dfdc6bf98c854fed8cbadd2e84ab05d8",
            "93088215c17c4b6b83c1943526baa3a3",
            "08211b1a2b304e70944b30310593fee8",
            "e7ccb5dd5fbe41d59a47ec850ffa05bf",
            "ad6231ad0c214827a39fa70e87bcda5f",
            "7395667b7fa84b488d246652cd11df13",
            "3e078a6b568946798ec581a610e36379",
            "de342ed00b9f4ad3a9d55ff61c66ba69",
            "d66ae362bab94166a0cab0b3c6bcc267"
          ]
        }
      },
      "source": [
        "ibl_pred.value=\"Prediction will show here!\"\n",
        "VBox([widgets.Label(\"select your image\"),\n",
        "    out,btn_upload,btn_rem,btn_run,ibl_pred])"
      ],
      "execution_count": 103,
      "outputs": [
        {
          "output_type": "display_data",
          "data": {
            "application/vnd.jupyter.widget-view+json": {
              "model_id": "025e1dd43b7e49f6b0b0c9a1ce3793b4",
              "version_minor": 0,
              "version_major": 2
            },
            "text/plain": [
              "VBox(children=(Label(value='select your image'), Output(), FileUpload(value={}, description='Upload'), Button(…"
            ]
          },
          "metadata": {
            "tags": []
          }
        },
        {
          "output_type": "display_data",
          "data": {
            "text/html": [
              ""
            ],
            "text/plain": [
              "<IPython.core.display.HTML object>"
            ]
          },
          "metadata": {
            "tags": []
          }
        }
      ]
    },
    {
      "cell_type": "code",
      "metadata": {
        "id": "QWkytfOUGrRn",
        "outputId": "eab2704f-8ca5-4ca9-f5bf-edc2e81d4d6a",
        "colab": {
          "base_uri": "https://localhost:8080/",
          "height": 449
        }
      },
      "source": [
        ""
      ],
      "execution_count": 77,
      "outputs": [
        {
          "output_type": "error",
          "ename": "AttributeError",
          "evalue": "ignored",
          "traceback": [
            "\u001b[0;31m---------------------------------------------------------------------------\u001b[0m",
            "\u001b[0;31mAttributeError\u001b[0m                            Traceback (most recent call last)",
            "\u001b[0;32m/usr/local/lib/python3.7/dist-packages/PIL/Image.py\u001b[0m in \u001b[0;36mopen\u001b[0;34m(fp, mode)\u001b[0m\n\u001b[1;32m   2812\u001b[0m     \u001b[0;32mtry\u001b[0m\u001b[0;34m:\u001b[0m\u001b[0;34m\u001b[0m\u001b[0;34m\u001b[0m\u001b[0m\n\u001b[0;32m-> 2813\u001b[0;31m         \u001b[0mfp\u001b[0m\u001b[0;34m.\u001b[0m\u001b[0mseek\u001b[0m\u001b[0;34m(\u001b[0m\u001b[0;36m0\u001b[0m\u001b[0;34m)\u001b[0m\u001b[0;34m\u001b[0m\u001b[0;34m\u001b[0m\u001b[0m\n\u001b[0m\u001b[1;32m   2814\u001b[0m     \u001b[0;32mexcept\u001b[0m \u001b[0;34m(\u001b[0m\u001b[0mAttributeError\u001b[0m\u001b[0;34m,\u001b[0m \u001b[0mio\u001b[0m\u001b[0;34m.\u001b[0m\u001b[0mUnsupportedOperation\u001b[0m\u001b[0;34m)\u001b[0m\u001b[0;34m:\u001b[0m\u001b[0;34m\u001b[0m\u001b[0;34m\u001b[0m\u001b[0m\n",
            "\u001b[0;31mAttributeError\u001b[0m: 'bytes' object has no attribute 'seek'",
            "\nDuring handling of the above exception, another exception occurred:\n",
            "\u001b[0;31mAttributeError\u001b[0m                            Traceback (most recent call last)",
            "\u001b[0;32m<ipython-input-77-5f5694293c46>\u001b[0m in \u001b[0;36m<module>\u001b[0;34m()\u001b[0m\n\u001b[0;32m----> 1\u001b[0;31m \u001b[0mImage\u001b[0m\u001b[0;34m.\u001b[0m\u001b[0mopen\u001b[0m\u001b[0;34m(\u001b[0m\u001b[0mbtn_upload\u001b[0m\u001b[0;34m.\u001b[0m\u001b[0mdata\u001b[0m\u001b[0;34m[\u001b[0m\u001b[0;36m0\u001b[0m\u001b[0;34m]\u001b[0m\u001b[0;34m)\u001b[0m\u001b[0;34m\u001b[0m\u001b[0;34m\u001b[0m\u001b[0m\n\u001b[0m",
            "\u001b[0;32m/usr/local/lib/python3.7/dist-packages/PIL/Image.py\u001b[0m in \u001b[0;36mopen\u001b[0;34m(fp, mode)\u001b[0m\n\u001b[1;32m   2813\u001b[0m         \u001b[0mfp\u001b[0m\u001b[0;34m.\u001b[0m\u001b[0mseek\u001b[0m\u001b[0;34m(\u001b[0m\u001b[0;36m0\u001b[0m\u001b[0;34m)\u001b[0m\u001b[0;34m\u001b[0m\u001b[0;34m\u001b[0m\u001b[0m\n\u001b[1;32m   2814\u001b[0m     \u001b[0;32mexcept\u001b[0m \u001b[0;34m(\u001b[0m\u001b[0mAttributeError\u001b[0m\u001b[0;34m,\u001b[0m \u001b[0mio\u001b[0m\u001b[0;34m.\u001b[0m\u001b[0mUnsupportedOperation\u001b[0m\u001b[0;34m)\u001b[0m\u001b[0;34m:\u001b[0m\u001b[0;34m\u001b[0m\u001b[0;34m\u001b[0m\u001b[0m\n\u001b[0;32m-> 2815\u001b[0;31m         \u001b[0mfp\u001b[0m \u001b[0;34m=\u001b[0m \u001b[0mio\u001b[0m\u001b[0;34m.\u001b[0m\u001b[0mBytesIO\u001b[0m\u001b[0;34m(\u001b[0m\u001b[0mfp\u001b[0m\u001b[0;34m.\u001b[0m\u001b[0mread\u001b[0m\u001b[0;34m(\u001b[0m\u001b[0;34m)\u001b[0m\u001b[0;34m)\u001b[0m\u001b[0;34m\u001b[0m\u001b[0;34m\u001b[0m\u001b[0m\n\u001b[0m\u001b[1;32m   2816\u001b[0m         \u001b[0mexclusive_fp\u001b[0m \u001b[0;34m=\u001b[0m \u001b[0;32mTrue\u001b[0m\u001b[0;34m\u001b[0m\u001b[0;34m\u001b[0m\u001b[0m\n\u001b[1;32m   2817\u001b[0m \u001b[0;34m\u001b[0m\u001b[0m\n",
            "\u001b[0;31mAttributeError\u001b[0m: 'bytes' object has no attribute 'read'"
          ]
        }
      ]
    }
  ]
}